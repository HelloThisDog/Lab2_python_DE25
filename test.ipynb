{
 "cells": [
  {
   "cell_type": "markdown",
   "id": "5efd9ab9",
   "metadata": {},
   "source": [
    "## Test area for classes"
   ]
  },
  {
   "cell_type": "code",
   "execution_count": 1,
   "id": "6b3b53ec",
   "metadata": {},
   "outputs": [
    {
     "data": {
      "text/plain": [
       "(5, 6)"
      ]
     },
     "execution_count": 1,
     "metadata": {},
     "output_type": "execute_result"
    }
   ],
   "source": [
    "#this is the test to see if the class works\n",
    "from shapes_postion import ShapesPosition\n",
    "\n",
    "\n",
    "s1 = ShapesPosition(5, 6)\n",
    "s1.x, s1.y"
   ]
  },
  {
   "cell_type": "markdown",
   "id": "7eb05a30",
   "metadata": {},
   "source": [
    "Notes about my atempts to get my shapes position class to give me a type error\n",
    "\n",
    "the main goal with it doing a type error is to have the class be unable to read strings\n",
    "\n",
    "- if I make x and y int or floats it will give me a value error, which is a step in the right direction but on the wrong stairway"
   ]
  },
  {
   "cell_type": "code",
   "execution_count": 2,
   "id": "3cba7f2f",
   "metadata": {},
   "outputs": [
    {
     "ename": "TypeError",
     "evalue": "please put in a number not hi",
     "output_type": "error",
     "traceback": [
      "\u001b[31m---------------------------------------------------------------------------\u001b[39m",
      "\u001b[31mTypeError\u001b[39m                                 Traceback (most recent call last)",
      "\u001b[36mCell\u001b[39m\u001b[36m \u001b[39m\u001b[32mIn[2]\u001b[39m\u001b[32m, line 1\u001b[39m\n\u001b[32m----> \u001b[39m\u001b[32m1\u001b[39m s2 = \u001b[43mShapesPosition\u001b[49m\u001b[43m(\u001b[49m\u001b[33;43m\"\u001b[39;49m\u001b[33;43mhi\u001b[39;49m\u001b[33;43m\"\u001b[39;49m\u001b[43m,\u001b[49m\u001b[43m \u001b[49m\u001b[32;43m7\u001b[39;49m\u001b[43m)\u001b[49m\n\u001b[32m      3\u001b[39m s2.x, s2.y \n",
      "\u001b[36mFile \u001b[39m\u001b[32mc:\\Users\\megan\\Programming\\Lab2_python_DE25\\shapes_postion.py:8\u001b[39m, in \u001b[36mShapesPosition.__init__\u001b[39m\u001b[34m(self, x, y)\u001b[39m\n\u001b[32m      6\u001b[39m \u001b[38;5;28;01mdef\u001b[39;00m\u001b[38;5;250m \u001b[39m\u001b[34m__init__\u001b[39m(\u001b[38;5;28mself\u001b[39m, x, y):\n\u001b[32m      7\u001b[39m     \u001b[38;5;28;01mif\u001b[39;00m \u001b[38;5;129;01mnot\u001b[39;00m \u001b[38;5;28misinstance\u001b[39m(x, Number):\n\u001b[32m----> \u001b[39m\u001b[32m8\u001b[39m         \u001b[38;5;28;01mraise\u001b[39;00m \u001b[38;5;167;01mTypeError\u001b[39;00m(\u001b[33mf\u001b[39m\u001b[33m\"\u001b[39m\u001b[33mplease put in a number not \u001b[39m\u001b[38;5;132;01m{\u001b[39;00mx\u001b[38;5;132;01m}\u001b[39;00m\u001b[33m\"\u001b[39m)\n\u001b[32m     10\u001b[39m     \u001b[38;5;28;01mif\u001b[39;00m \u001b[38;5;129;01mnot\u001b[39;00m \u001b[38;5;28misinstance\u001b[39m(y, Number):\n\u001b[32m     11\u001b[39m         \u001b[38;5;28;01mraise\u001b[39;00m \u001b[38;5;167;01mTypeError\u001b[39;00m(\u001b[33mf\u001b[39m\u001b[33m\"\u001b[39m\u001b[33mplease put in a number not \u001b[39m\u001b[38;5;132;01m{\u001b[39;00my\u001b[38;5;132;01m}\u001b[39;00m\u001b[33m\"\u001b[39m)\n",
      "\u001b[31mTypeError\u001b[39m: please put in a number not hi"
     ]
    }
   ],
   "source": [
    "s2 = ShapesPosition(\"hi\", 7)\n",
    "\n",
    "s2.x, s2.y "
   ]
  },
  {
   "cell_type": "code",
   "execution_count": 3,
   "id": "4ed7579b",
   "metadata": {},
   "outputs": [
    {
     "ename": "TypeError",
     "evalue": "please put in a number not hello",
     "output_type": "error",
     "traceback": [
      "\u001b[31m---------------------------------------------------------------------------\u001b[39m",
      "\u001b[31mTypeError\u001b[39m                                 Traceback (most recent call last)",
      "\u001b[36mCell\u001b[39m\u001b[36m \u001b[39m\u001b[32mIn[3]\u001b[39m\u001b[32m, line 1\u001b[39m\n\u001b[32m----> \u001b[39m\u001b[32m1\u001b[39m s3 = \u001b[43mShapesPosition\u001b[49m\u001b[43m(\u001b[49m\u001b[32;43m8\u001b[39;49m\u001b[43m,\u001b[49m\u001b[43m \u001b[49m\u001b[33;43m\"\u001b[39;49m\u001b[33;43mhello\u001b[39;49m\u001b[33;43m\"\u001b[39;49m\u001b[43m)\u001b[49m\n\u001b[32m      3\u001b[39m s3.x, s2.y\n",
      "\u001b[36mFile \u001b[39m\u001b[32mc:\\Users\\megan\\Programming\\Lab2_python_DE25\\shapes_postion.py:11\u001b[39m, in \u001b[36mShapesPosition.__init__\u001b[39m\u001b[34m(self, x, y)\u001b[39m\n\u001b[32m      8\u001b[39m     \u001b[38;5;28;01mraise\u001b[39;00m \u001b[38;5;167;01mTypeError\u001b[39;00m(\u001b[33mf\u001b[39m\u001b[33m\"\u001b[39m\u001b[33mplease put in a number not \u001b[39m\u001b[38;5;132;01m{\u001b[39;00mx\u001b[38;5;132;01m}\u001b[39;00m\u001b[33m\"\u001b[39m)\n\u001b[32m     10\u001b[39m \u001b[38;5;28;01mif\u001b[39;00m \u001b[38;5;129;01mnot\u001b[39;00m \u001b[38;5;28misinstance\u001b[39m(y, Number):\n\u001b[32m---> \u001b[39m\u001b[32m11\u001b[39m     \u001b[38;5;28;01mraise\u001b[39;00m \u001b[38;5;167;01mTypeError\u001b[39;00m(\u001b[33mf\u001b[39m\u001b[33m\"\u001b[39m\u001b[33mplease put in a number not \u001b[39m\u001b[38;5;132;01m{\u001b[39;00my\u001b[38;5;132;01m}\u001b[39;00m\u001b[33m\"\u001b[39m)\n\u001b[32m     13\u001b[39m \u001b[38;5;28mself\u001b[39m._x = x\n\u001b[32m     14\u001b[39m \u001b[38;5;28mself\u001b[39m._y = y\n",
      "\u001b[31mTypeError\u001b[39m: please put in a number not hello"
     ]
    }
   ],
   "source": [
    "s3 = ShapesPosition(8, \"hello\")\n",
    "\n",
    "s3.x, s2.y"
   ]
  },
  {
   "cell_type": "markdown",
   "id": "f4c3374e",
   "metadata": {},
   "source": [
    "- the solution was putting in the validation when x and y get set"
   ]
  }
 ],
 "metadata": {
  "kernelspec": {
   "display_name": "Lab2_python_DE25",
   "language": "python",
   "name": "python3"
  },
  "language_info": {
   "codemirror_mode": {
    "name": "ipython",
    "version": 3
   },
   "file_extension": ".py",
   "mimetype": "text/x-python",
   "name": "python",
   "nbconvert_exporter": "python",
   "pygments_lexer": "ipython3",
   "version": "3.12.10"
  }
 },
 "nbformat": 4,
 "nbformat_minor": 5
}
