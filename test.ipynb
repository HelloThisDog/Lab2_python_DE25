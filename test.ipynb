{
 "cells": [
  {
   "cell_type": "code",
   "execution_count": 3,
   "id": "6b3b53ec",
   "metadata": {},
   "outputs": [
    {
     "data": {
      "text/plain": [
       "(5, 6)"
      ]
     },
     "execution_count": 3,
     "metadata": {},
     "output_type": "execute_result"
    }
   ],
   "source": [
    "from shapes_postion import ShapesPosition\n",
    "\n",
    "\n",
    "s1 = ShapesPosition(5, 6)\n",
    "s1.x, s1.y"
   ]
  },
  {
   "cell_type": "code",
   "execution_count": 4,
   "id": "3cba7f2f",
   "metadata": {},
   "outputs": [
    {
     "data": {
      "text/plain": [
       "<shapes_postion.ShapesPosition at 0x19d7ea478c0>"
      ]
     },
     "execution_count": 4,
     "metadata": {},
     "output_type": "execute_result"
    }
   ],
   "source": [
    "ShapesPosition(\"hi\", 7)\n"
   ]
  }
 ],
 "metadata": {
  "kernelspec": {
   "display_name": "Lab2_python_DE25",
   "language": "python",
   "name": "python3"
  },
  "language_info": {
   "codemirror_mode": {
    "name": "ipython",
    "version": 3
   },
   "file_extension": ".py",
   "mimetype": "text/x-python",
   "name": "python",
   "nbconvert_exporter": "python",
   "pygments_lexer": "ipython3",
   "version": "3.12.10"
  }
 },
 "nbformat": 4,
 "nbformat_minor": 5
}
