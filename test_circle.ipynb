{
 "cells": [
  {
   "cell_type": "markdown",
   "id": "76dd292a",
   "metadata": {},
   "source": [
    "## Testing area for the Circle class"
   ]
  },
  {
   "cell_type": "code",
   "execution_count": 2,
   "id": "5aa0ea2f",
   "metadata": {},
   "outputs": [
    {
     "data": {
      "text/plain": [
       "(1, 1, 2)"
      ]
     },
     "execution_count": 2,
     "metadata": {},
     "output_type": "execute_result"
    }
   ],
   "source": [
    "from circle import Circle\n",
    "\n",
    "c1 = Circle(1, 1, 2)\n",
    "\n",
    "c1.x, c1.y, c1.radius"
   ]
  },
  {
   "cell_type": "code",
   "execution_count": 2,
   "id": "54a897ca",
   "metadata": {},
   "outputs": [
    {
     "data": {
      "text/plain": [
       "12.566370614359172"
      ]
     },
     "execution_count": 2,
     "metadata": {},
     "output_type": "execute_result"
    }
   ],
   "source": [
    "c1.perimeter"
   ]
  },
  {
   "cell_type": "code",
   "execution_count": 3,
   "id": "d6e276ed",
   "metadata": {},
   "outputs": [
    {
     "data": {
      "text/plain": [
       "12.566370614359172"
      ]
     },
     "execution_count": 3,
     "metadata": {},
     "output_type": "execute_result"
    }
   ],
   "source": [
    "c1.area"
   ]
  },
  {
   "cell_type": "markdown",
   "id": "09798380",
   "metadata": {},
   "source": [
    "## Forced ValueError\n",
    "\n",
    "- becasue the radius cannot be below 0"
   ]
  },
  {
   "cell_type": "code",
   "execution_count": 4,
   "id": "412f0911",
   "metadata": {},
   "outputs": [
    {
     "name": "stdout",
     "output_type": "stream",
     "text": [
      "numbers may not be below 0\n"
     ]
    }
   ],
   "source": [
    "try:\n",
    "    c3 = Circle(1, 1, -2)\n",
    "except ValueError as err:\n",
    "    print(err)\n"
   ]
  },
  {
   "cell_type": "markdown",
   "id": "35bd2616",
   "metadata": {},
   "source": [
    "## forced TypeError\n",
    "\n",
    "- making sure that the error code is running"
   ]
  },
  {
   "cell_type": "code",
   "execution_count": 4,
   "id": "495f0828",
   "metadata": {},
   "outputs": [
    {
     "name": "stdout",
     "output_type": "stream",
     "text": [
      "please put in a number not hoi\n"
     ]
    }
   ],
   "source": [
    "try:\n",
    "    c2 = Circle(1, 1, \"hoi\")\n",
    "except TypeError as err:\n",
    "    print(err)"
   ]
  }
 ],
 "metadata": {
  "kernelspec": {
   "display_name": "Lab2_python_DE25",
   "language": "python",
   "name": "python3"
  },
  "language_info": {
   "codemirror_mode": {
    "name": "ipython",
    "version": 3
   },
   "file_extension": ".py",
   "mimetype": "text/x-python",
   "name": "python",
   "nbconvert_exporter": "python",
   "pygments_lexer": "ipython3",
   "version": "3.12.10"
  }
 },
 "nbformat": 4,
 "nbformat_minor": 5
}
