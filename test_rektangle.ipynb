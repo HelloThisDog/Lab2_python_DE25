{
 "cells": [
  {
   "cell_type": "markdown",
   "id": "81706c65",
   "metadata": {},
   "source": [
    "## Test area for the rektangle class"
   ]
  },
  {
   "cell_type": "code",
   "execution_count": 1,
   "id": "3fbdc541",
   "metadata": {},
   "outputs": [
    {
     "data": {
      "text/plain": [
       "(1, 2, 3, 5)"
      ]
     },
     "execution_count": 1,
     "metadata": {},
     "output_type": "execute_result"
    }
   ],
   "source": [
    "from rektangle import Rektangle\n",
    "\n",
    "r1 = Rektangle(1, 2, 3, 5)\n",
    "\n",
    "r1.x, r1.y, r1.height, r1.length"
   ]
  },
  {
   "cell_type": "code",
   "execution_count": 2,
   "id": "942048b4",
   "metadata": {},
   "outputs": [
    {
     "data": {
      "text/plain": [
       "16"
      ]
     },
     "execution_count": 2,
     "metadata": {},
     "output_type": "execute_result"
    }
   ],
   "source": [
    "r1.perimeter"
   ]
  },
  {
   "cell_type": "code",
   "execution_count": 3,
   "id": "684f9c17",
   "metadata": {},
   "outputs": [
    {
     "data": {
      "text/plain": [
       "15"
      ]
     },
     "execution_count": 3,
     "metadata": {},
     "output_type": "execute_result"
    }
   ],
   "source": [
    "r1.area"
   ]
  },
  {
   "cell_type": "markdown",
   "id": "c9a52499",
   "metadata": {},
   "source": [
    "## Error testing"
   ]
  },
  {
   "cell_type": "code",
   "execution_count": 5,
   "id": "38881a16",
   "metadata": {},
   "outputs": [
    {
     "name": "stdout",
     "output_type": "stream",
     "text": [
      "please put in a number not hewo\n"
     ]
    }
   ],
   "source": [
    "try:\n",
    "    r2 = Rektangle(1, 3, \"hewo\", 4)\n",
    "except TypeError as err:\n",
    "    print(err)"
   ]
  },
  {
   "cell_type": "code",
   "execution_count": 6,
   "id": "6d9d4113",
   "metadata": {},
   "outputs": [
    {
     "name": "stdout",
     "output_type": "stream",
     "text": [
      "numbers may not be below 0\n"
     ]
    }
   ],
   "source": [
    "try:\n",
    "    r3 = Rektangle(1, 1, 5, -7)\n",
    "except ValueError as err:\n",
    "    print(err)"
   ]
  }
 ],
 "metadata": {
  "kernelspec": {
   "display_name": "Lab2_python_DE25",
   "language": "python",
   "name": "python3"
  },
  "language_info": {
   "codemirror_mode": {
    "name": "ipython",
    "version": 3
   },
   "file_extension": ".py",
   "mimetype": "text/x-python",
   "name": "python",
   "nbconvert_exporter": "python",
   "pygments_lexer": "ipython3",
   "version": "3.12.10"
  }
 },
 "nbformat": 4,
 "nbformat_minor": 5
}
