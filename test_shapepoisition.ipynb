{
 "cells": [
  {
   "cell_type": "markdown",
   "id": "5efd9ab9",
   "metadata": {},
   "source": [
    "## Test area for shape poistion\n",
    "\n",
    "* more specifically, making sure x and y works "
   ]
  },
  {
   "cell_type": "code",
   "execution_count": 2,
   "id": "6b3b53ec",
   "metadata": {},
   "outputs": [
    {
     "data": {
      "text/plain": [
       "(5, 6)"
      ]
     },
     "execution_count": 2,
     "metadata": {},
     "output_type": "execute_result"
    }
   ],
   "source": [
    "#this is the test to see if the class works\n",
    "from shapes_postion import ShapesPosition\n",
    "\n",
    "\n",
    "s1 = ShapesPosition(5, 6)\n",
    "s1.x, s1.y"
   ]
  },
  {
   "cell_type": "markdown",
   "id": "7eb05a30",
   "metadata": {},
   "source": [
    "Notes about my atempts to get my shapes position class to give me a type error\n",
    "\n",
    "the main goal with it doing a type error is to have the class be unable to read strings\n",
    "\n",
    "- if I make x and y int or floats it will give me a value error, which is a step in the right direction but on the wrong stairway"
   ]
  },
  {
   "cell_type": "code",
   "execution_count": 4,
   "id": "3cba7f2f",
   "metadata": {},
   "outputs": [
    {
     "name": "stdout",
     "output_type": "stream",
     "text": [
      "please put in a number not hi\n"
     ]
    }
   ],
   "source": [
    "#this is to trip the error code on x\n",
    "try:\n",
    "    s2 = ShapesPosition(\"hi\", 7)\n",
    "except TypeError as err:\n",
    "    print(err)\n"
   ]
  },
  {
   "cell_type": "code",
   "execution_count": 5,
   "id": "4ed7579b",
   "metadata": {},
   "outputs": [
    {
     "name": "stdout",
     "output_type": "stream",
     "text": [
      "please put in a number not hello\n"
     ]
    }
   ],
   "source": [
    "#this is to trip the error code on y\n",
    "try:\n",
    "    s3 = ShapesPosition(8, \"hello\")\n",
    "except TypeError as err:\n",
    "    print(err)\n"
   ]
  },
  {
   "cell_type": "markdown",
   "id": "f4c3374e",
   "metadata": {},
   "source": [
    "- the solution was putting in the validation when x and y get set"
   ]
  }
 ],
 "metadata": {
  "kernelspec": {
   "display_name": "Lab2_python_DE25",
   "language": "python",
   "name": "python3"
  },
  "language_info": {
   "codemirror_mode": {
    "name": "ipython",
    "version": 3
   },
   "file_extension": ".py",
   "mimetype": "text/x-python",
   "name": "python",
   "nbconvert_exporter": "python",
   "pygments_lexer": "ipython3",
   "version": "3.12.10"
  }
 },
 "nbformat": 4,
 "nbformat_minor": 5
}
